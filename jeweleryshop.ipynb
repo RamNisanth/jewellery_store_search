{
  "cells": [
    {
      "cell_type": "code",
      "execution_count": 10,
      "metadata": {
        "colab": {
          "base_uri": "https://localhost:8080/",
          "height": 0
        },
        "collapsed": true,
        "id": "K2hlvQvKtjC7",
        "outputId": "2a2c8dd5-356e-4968-f327-a6dd09b29c8c"
      },
      "outputs": [
        {
          "output_type": "stream",
          "name": "stdout",
          "text": [
            "Requirement already satisfied: pymilvus in /usr/local/lib/python3.11/dist-packages (2.6.0)\n",
            "Requirement already satisfied: pillow in /usr/local/lib/python3.11/dist-packages (11.3.0)\n",
            "Requirement already satisfied: sentence-transformers in /usr/local/lib/python3.11/dist-packages (5.1.0)\n",
            "Requirement already satisfied: setuptools>69 in /usr/local/lib/python3.11/dist-packages (from pymilvus) (75.2.0)\n",
            "Requirement already satisfied: grpcio!=1.68.0,!=1.68.1,!=1.69.0,!=1.70.0,!=1.70.1,!=1.71.0,!=1.72.1,!=1.73.0,>=1.66.2 in /usr/local/lib/python3.11/dist-packages (from pymilvus) (1.74.0)\n",
            "Requirement already satisfied: protobuf>=5.27.2 in /usr/local/lib/python3.11/dist-packages (from pymilvus) (5.29.5)\n",
            "Requirement already satisfied: python-dotenv<2.0.0,>=1.0.1 in /usr/local/lib/python3.11/dist-packages (from pymilvus) (1.1.1)\n",
            "Requirement already satisfied: ujson>=2.0.0 in /usr/local/lib/python3.11/dist-packages (from pymilvus) (5.10.0)\n",
            "Requirement already satisfied: pandas>=1.2.4 in /usr/local/lib/python3.11/dist-packages (from pymilvus) (2.2.2)\n",
            "Requirement already satisfied: milvus-lite>=2.4.0 in /usr/local/lib/python3.11/dist-packages (from pymilvus) (2.5.1)\n",
            "Requirement already satisfied: transformers<5.0.0,>=4.41.0 in /usr/local/lib/python3.11/dist-packages (from sentence-transformers) (4.55.0)\n",
            "Requirement already satisfied: tqdm in /usr/local/lib/python3.11/dist-packages (from sentence-transformers) (4.67.1)\n",
            "Requirement already satisfied: torch>=1.11.0 in /usr/local/lib/python3.11/dist-packages (from sentence-transformers) (2.6.0+cu124)\n",
            "Requirement already satisfied: scikit-learn in /usr/local/lib/python3.11/dist-packages (from sentence-transformers) (1.6.1)\n",
            "Requirement already satisfied: scipy in /usr/local/lib/python3.11/dist-packages (from sentence-transformers) (1.16.1)\n",
            "Requirement already satisfied: huggingface-hub>=0.20.0 in /usr/local/lib/python3.11/dist-packages (from sentence-transformers) (0.34.4)\n",
            "Requirement already satisfied: typing_extensions>=4.5.0 in /usr/local/lib/python3.11/dist-packages (from sentence-transformers) (4.14.1)\n",
            "Requirement already satisfied: filelock in /usr/local/lib/python3.11/dist-packages (from huggingface-hub>=0.20.0->sentence-transformers) (3.18.0)\n",
            "Requirement already satisfied: fsspec>=2023.5.0 in /usr/local/lib/python3.11/dist-packages (from huggingface-hub>=0.20.0->sentence-transformers) (2025.3.0)\n",
            "Requirement already satisfied: packaging>=20.9 in /usr/local/lib/python3.11/dist-packages (from huggingface-hub>=0.20.0->sentence-transformers) (25.0)\n",
            "Requirement already satisfied: pyyaml>=5.1 in /usr/local/lib/python3.11/dist-packages (from huggingface-hub>=0.20.0->sentence-transformers) (6.0.2)\n",
            "Requirement already satisfied: requests in /usr/local/lib/python3.11/dist-packages (from huggingface-hub>=0.20.0->sentence-transformers) (2.32.3)\n",
            "Requirement already satisfied: hf-xet<2.0.0,>=1.1.3 in /usr/local/lib/python3.11/dist-packages (from huggingface-hub>=0.20.0->sentence-transformers) (1.1.7)\n",
            "Requirement already satisfied: numpy>=1.23.2 in /usr/local/lib/python3.11/dist-packages (from pandas>=1.2.4->pymilvus) (2.0.2)\n",
            "Requirement already satisfied: python-dateutil>=2.8.2 in /usr/local/lib/python3.11/dist-packages (from pandas>=1.2.4->pymilvus) (2.9.0.post0)\n",
            "Requirement already satisfied: pytz>=2020.1 in /usr/local/lib/python3.11/dist-packages (from pandas>=1.2.4->pymilvus) (2025.2)\n",
            "Requirement already satisfied: tzdata>=2022.7 in /usr/local/lib/python3.11/dist-packages (from pandas>=1.2.4->pymilvus) (2025.2)\n",
            "Requirement already satisfied: networkx in /usr/local/lib/python3.11/dist-packages (from torch>=1.11.0->sentence-transformers) (3.5)\n",
            "Requirement already satisfied: jinja2 in /usr/local/lib/python3.11/dist-packages (from torch>=1.11.0->sentence-transformers) (3.1.6)\n",
            "Requirement already satisfied: nvidia-cuda-nvrtc-cu12==12.4.127 in /usr/local/lib/python3.11/dist-packages (from torch>=1.11.0->sentence-transformers) (12.4.127)\n",
            "Requirement already satisfied: nvidia-cuda-runtime-cu12==12.4.127 in /usr/local/lib/python3.11/dist-packages (from torch>=1.11.0->sentence-transformers) (12.4.127)\n",
            "Requirement already satisfied: nvidia-cuda-cupti-cu12==12.4.127 in /usr/local/lib/python3.11/dist-packages (from torch>=1.11.0->sentence-transformers) (12.4.127)\n",
            "Requirement already satisfied: nvidia-cudnn-cu12==9.1.0.70 in /usr/local/lib/python3.11/dist-packages (from torch>=1.11.0->sentence-transformers) (9.1.0.70)\n",
            "Requirement already satisfied: nvidia-cublas-cu12==12.4.5.8 in /usr/local/lib/python3.11/dist-packages (from torch>=1.11.0->sentence-transformers) (12.4.5.8)\n",
            "Requirement already satisfied: nvidia-cufft-cu12==11.2.1.3 in /usr/local/lib/python3.11/dist-packages (from torch>=1.11.0->sentence-transformers) (11.2.1.3)\n",
            "Requirement already satisfied: nvidia-curand-cu12==10.3.5.147 in /usr/local/lib/python3.11/dist-packages (from torch>=1.11.0->sentence-transformers) (10.3.5.147)\n",
            "Requirement already satisfied: nvidia-cusolver-cu12==11.6.1.9 in /usr/local/lib/python3.11/dist-packages (from torch>=1.11.0->sentence-transformers) (11.6.1.9)\n",
            "Requirement already satisfied: nvidia-cusparse-cu12==12.3.1.170 in /usr/local/lib/python3.11/dist-packages (from torch>=1.11.0->sentence-transformers) (12.3.1.170)\n",
            "Requirement already satisfied: nvidia-cusparselt-cu12==0.6.2 in /usr/local/lib/python3.11/dist-packages (from torch>=1.11.0->sentence-transformers) (0.6.2)\n",
            "Requirement already satisfied: nvidia-nccl-cu12==2.21.5 in /usr/local/lib/python3.11/dist-packages (from torch>=1.11.0->sentence-transformers) (2.21.5)\n",
            "Requirement already satisfied: nvidia-nvtx-cu12==12.4.127 in /usr/local/lib/python3.11/dist-packages (from torch>=1.11.0->sentence-transformers) (12.4.127)\n",
            "Requirement already satisfied: nvidia-nvjitlink-cu12==12.4.127 in /usr/local/lib/python3.11/dist-packages (from torch>=1.11.0->sentence-transformers) (12.4.127)\n",
            "Requirement already satisfied: triton==3.2.0 in /usr/local/lib/python3.11/dist-packages (from torch>=1.11.0->sentence-transformers) (3.2.0)\n",
            "Requirement already satisfied: sympy==1.13.1 in /usr/local/lib/python3.11/dist-packages (from torch>=1.11.0->sentence-transformers) (1.13.1)\n",
            "Requirement already satisfied: mpmath<1.4,>=1.1.0 in /usr/local/lib/python3.11/dist-packages (from sympy==1.13.1->torch>=1.11.0->sentence-transformers) (1.3.0)\n",
            "Requirement already satisfied: regex!=2019.12.17 in /usr/local/lib/python3.11/dist-packages (from transformers<5.0.0,>=4.41.0->sentence-transformers) (2024.11.6)\n",
            "Requirement already satisfied: tokenizers<0.22,>=0.21 in /usr/local/lib/python3.11/dist-packages (from transformers<5.0.0,>=4.41.0->sentence-transformers) (0.21.4)\n",
            "Requirement already satisfied: safetensors>=0.4.3 in /usr/local/lib/python3.11/dist-packages (from transformers<5.0.0,>=4.41.0->sentence-transformers) (0.6.2)\n",
            "Requirement already satisfied: joblib>=1.2.0 in /usr/local/lib/python3.11/dist-packages (from scikit-learn->sentence-transformers) (1.5.1)\n",
            "Requirement already satisfied: threadpoolctl>=3.1.0 in /usr/local/lib/python3.11/dist-packages (from scikit-learn->sentence-transformers) (3.6.0)\n",
            "Requirement already satisfied: six>=1.5 in /usr/local/lib/python3.11/dist-packages (from python-dateutil>=2.8.2->pandas>=1.2.4->pymilvus) (1.17.0)\n",
            "Requirement already satisfied: MarkupSafe>=2.0 in /usr/local/lib/python3.11/dist-packages (from jinja2->torch>=1.11.0->sentence-transformers) (3.0.2)\n",
            "Requirement already satisfied: charset-normalizer<4,>=2 in /usr/local/lib/python3.11/dist-packages (from requests->huggingface-hub>=0.20.0->sentence-transformers) (3.4.3)\n",
            "Requirement already satisfied: idna<4,>=2.5 in /usr/local/lib/python3.11/dist-packages (from requests->huggingface-hub>=0.20.0->sentence-transformers) (3.10)\n",
            "Requirement already satisfied: urllib3<3,>=1.21.1 in /usr/local/lib/python3.11/dist-packages (from requests->huggingface-hub>=0.20.0->sentence-transformers) (2.5.0)\n",
            "Requirement already satisfied: certifi>=2017.4.17 in /usr/local/lib/python3.11/dist-packages (from requests->huggingface-hub>=0.20.0->sentence-transformers) (2025.8.3)\n"
          ]
        }
      ],
      "source": [
        "!pip install pymilvus pillow sentence-transformers"
      ]
    },
    {
      "cell_type": "code",
      "execution_count": 11,
      "metadata": {
        "collapsed": true,
        "id": "0HwWseMFtwe8"
      },
      "outputs": [],
      "source": [
        "from sentence_transformers import SentenceTransformer\n",
        "from PIL import Image\n",
        "import requests\n",
        "from io import BytesIO\n",
        "\n",
        "# Load CLIP image embedding model\n",
        "model = SentenceTransformer(\"sentence-transformers/clip-ViT-L-14\")"
      ]
    },
    {
      "cell_type": "code",
      "execution_count": 12,
      "metadata": {
        "id": "00MJLVSyK6fX"
      },
      "outputs": [],
      "source": [
        "import requests\n",
        "from PIL import Image\n",
        "from io import BytesIO\n",
        "from concurrent.futures import ThreadPoolExecutor, as_completed\n",
        "\n",
        "base_folder_url = \"https://github.com/skarifahmed/RingFIR/raw/main/data/RingFIR/\"\n",
        "\n",
        "\n",
        "def process_single_folder(folder_num, base_folder_url, model):\n",
        "    embeddings = []\n",
        "    image_urls = []\n",
        "\n",
        "    folder_id = str(folder_num).zfill(3)\n",
        "    base_url = f\"{base_folder_url}{folder_id}/{folder_id}_\"\n",
        "    i = 1\n",
        "\n",
        "    while True:\n",
        "        img_number = str(i).zfill(3)\n",
        "        img_url = f\"{base_url}{img_number}.png\"\n",
        "        response = requests.get(img_url)\n",
        "\n",
        "        if response.status_code != 200:\n",
        "            break\n",
        "\n",
        "        image_urls.append(img_url)\n",
        "        image = Image.open(BytesIO(response.content)).convert(\"RGB\")\n",
        "        emb = model.encode(image)\n",
        "        embeddings.append(emb)\n",
        "        i += 1\n",
        "\n",
        "    print(f\"Folder {folder_id}: {len(embeddings)} images processed\")\n",
        "    return embeddings, image_urls\n",
        "\n",
        "\n",
        "def process_image_folders_parallel(base_folder_url, model, start_folder=1, end_folder=46, max_workers=5):\n",
        "    all_embeddings = []\n",
        "    all_image_urls = []\n",
        "\n",
        "    with ThreadPoolExecutor(max_workers=max_workers) as executor:\n",
        "        futures = [\n",
        "            executor.submit(process_single_folder, folder_num, base_folder_url, model)\n",
        "            for folder_num in range(start_folder, end_folder + 1)\n",
        "        ]\n",
        "\n",
        "        for future in as_completed(futures):\n",
        "            emb, urls = future.result()\n",
        "            all_embeddings.extend(emb)\n",
        "            all_image_urls.extend(urls)\n",
        "\n",
        "    print(\"All folders processed.\")\n",
        "    print(len(all_embeddings), len(all_image_urls))\n",
        "    return all_embeddings, all_image_urls\n"
      ]
    },
    {
      "cell_type": "code",
      "execution_count": 14,
      "metadata": {
        "colab": {
          "base_uri": "https://localhost:8080/",
          "height": 0
        },
        "id": "jaRoEkwGel76",
        "outputId": "cafc12d1-f94f-4af2-b1d8-e62c38b7766d"
      },
      "outputs": [
        {
          "output_type": "stream",
          "name": "stdout",
          "text": [
            "Folder 001: 22 images processed\n",
            "Folder 005: 24 images processed\n",
            "Folder 006: 16 images processed\n",
            "Folder 004: 43 images processed\n",
            "Folder 002: 45 images processed\n",
            "Folder 003: 58 images processed\n",
            "Folder 007: 49 images processed\n",
            "Folder 009: 36 images processed\n",
            "Folder 010: 36 images processed\n",
            "Folder 008: 53 images processed\n",
            "Folder 012: 25 images processed\n",
            "Folder 015: 22 images processed\n",
            "Folder 013: 30 images processed\n",
            "Folder 014: 32 images processed\n",
            "Folder 011: 55 images processed\n",
            "Folder 016: 34 images processed\n",
            "Folder 018: 30 images processed\n",
            "Folder 020: 38 images processed\n",
            "Folder 017: 58 images processed\n",
            "Folder 019: 60 images processed\n",
            "Folder 023: 43 images processed\n",
            "Folder 022: 63 images processed\n",
            "Folder 021: 80 images processed\n",
            "Folder 025: 79 images processed\n",
            "Folder 028: 57 images processed\n",
            "Folder 024: 124 images processed\n",
            "Folder 026: 100 images processed\n",
            "Folder 031: 41 images processed\n",
            "Folder 029: 80 images processed\n",
            "Folder 027: 116 images processed\n",
            "Folder 035: 21 images processed\n",
            "Folder 032: 69 images processed\n",
            "Folder 033: 38 images processed\n",
            "Folder 034: 31 images processed\n",
            "Folder 030: 103 images processed\n",
            "Folder 037: 22 images processed\n",
            "Folder 036: 35 images processed\n",
            "Folder 041: 41 images processed\n",
            "Folder 039: 66 images processed\n",
            "Folder 038: 80 images processed\n",
            "Folder 042: 58 images processed\n",
            "Folder 043: 38 images processed\n",
            "Folder 040: 106 images processed\n",
            "Folder 044: 70 images processed\n",
            "Folder 045: 73 images processed\n",
            "Folder 046: 97 images processed\n",
            "All folders processed.\n",
            "2497 2497\n"
          ]
        }
      ],
      "source": [
        "all_embeddings, all_image_urls = process_image_folders_parallel(base_folder_url, model, 1, 46, 5)"
      ]
    },
    {
      "cell_type": "code",
      "source": [
        "from google.colab import drive\n",
        "drive.mount('/content/drive')\n",
        "\n",
        "import json\n",
        "\n",
        "config_path = '/content/drive/MyDrive/creds/milvus_cred.json'\n",
        "\n",
        "with open(config_path, 'r') as f:\n",
        "    milvus_config = json.load(f)\n",
        "\n",
        "alias = milvus_config.get(\"alias\", \"default\")\n",
        "uri = milvus_config[\"uri\"]\n",
        "token = milvus_config[\"token\"]\n"
      ],
      "metadata": {
        "colab": {
          "base_uri": "https://localhost:8080/",
          "height": 0
        },
        "id": "mzIXVvPS3Sr0",
        "outputId": "a57d173a-c294-43ca-e6fb-13bcd03606b8"
      },
      "execution_count": 34,
      "outputs": [
        {
          "output_type": "stream",
          "name": "stdout",
          "text": [
            "Drive already mounted at /content/drive; to attempt to forcibly remount, call drive.mount(\"/content/drive\", force_remount=True).\n"
          ]
        }
      ]
    },
    {
      "cell_type": "code",
      "execution_count": 36,
      "metadata": {
        "id": "Oi6fXyDdPJtL"
      },
      "outputs": [],
      "source": [
        "from pymilvus import connections, Collection\n",
        "from pymilvus import connections\n",
        "\n",
        "connections.connect(\n",
        "    alias=alias,\n",
        "    uri=uri,\n",
        "    token=token\n",
        ")\n"
      ]
    },
    {
      "cell_type": "code",
      "execution_count": 17,
      "metadata": {
        "id": "u7biQ4KMZqDT",
        "colab": {
          "base_uri": "https://localhost:8080/",
          "height": 0
        },
        "outputId": "74fe4ea0-bc6b-41be-f2e3-e7a401de0883"
      },
      "outputs": [
        {
          "output_type": "stream",
          "name": "stdout",
          "text": [
            "Inserted 2497 rows into collection.\n"
          ]
        }
      ],
      "source": [
        "\n",
        "from pymilvus import FieldSchema, CollectionSchema, DataType, Collection\n",
        "\n",
        "\n",
        "fields = [\n",
        "    FieldSchema(name=\"id\", dtype=DataType.INT64, is_primary=True, auto_id=True),\n",
        "    FieldSchema(name=\"embedding\", dtype=DataType.FLOAT_VECTOR, dim=768),\n",
        "    FieldSchema(name=\"image_url\", dtype=DataType.VARCHAR, max_length=500)\n",
        "]\n",
        "\n",
        "schema = CollectionSchema(fields, description=\"RingFIR embeddings\")\n",
        "collection = Collection(\"ringfir\", schema)  # This creates the collection if it doesn't exist\n",
        "\n",
        "data = [\n",
        "    all_embeddings, all_image_urls\n",
        "]\n",
        "\n",
        "\n",
        "insert_result = collection.insert(data)\n",
        "\n",
        "\n",
        "collection.flush()\n",
        "\n",
        "from pymilvus import Index\n",
        "\n",
        "index_params = {\n",
        "    \"index_type\": \"IVF_FLAT\",  # You can also use HNSW or ANNOY\n",
        "    \"metric_type\": \"L2\",       # \"IP\" for cosine similarity\n",
        "    \"params\": {\"nlist\": 128}   # nlist depends on your dataset size\n",
        "}\n",
        "\n",
        "collection.create_index(\"embedding\", index_params=index_params)\n",
        "\n",
        "\n",
        "\n",
        "\n",
        "collection.load()\n",
        "\n",
        "print(f\"Inserted {len(all_embeddings)} rows into collection.\")"
      ]
    },
    {
      "cell_type": "code",
      "execution_count": 29,
      "metadata": {
        "id": "p5B_tmZbuAHQ",
        "colab": {
          "base_uri": "https://localhost:8080/",
          "height": 0
        },
        "outputId": "fed06402-1bfd-4b51-caa3-84d3438b751c"
      },
      "outputs": [
        {
          "output_type": "stream",
          "name": "stdout",
          "text": [
            "Score: 91.69725036621094, Image URL: https://github.com/skarifahmed/RingFIR/raw/main/data/RingFIR/014/014_028.png\n",
            "Score: 91.69725036621094, Image URL: https://github.com/skarifahmed/RingFIR/raw/main/data/RingFIR/014/014_028.png\n",
            "Score: 99.69913482666016, Image URL: https://github.com/skarifahmed/RingFIR/raw/main/data/RingFIR/014/014_011.png\n"
          ]
        }
      ],
      "source": [
        "query_url = \"https://raw.githubusercontent.com/skarifahmed/RingFIR/main/data/RingFIR/042/042_003.png\"  # Query image\n",
        "response = requests.get(query_url)\n",
        "image = Image.open(BytesIO(response.content)).convert(\"RGB\")\n",
        "\n",
        "image_path = \"/content/sample_data/earing_search.png\"\n",
        "image = Image.open(image_path).convert(\"RGB\")\n",
        "\n",
        "emb = model.encode(image)\n",
        "\n",
        "results = collection.search(\n",
        "    data=[emb],\n",
        "    anns_field=\"embedding\",\n",
        "    param={\"metric_type\": \"L2\", \"params\": {\"nprobe\": 10}},\n",
        "    limit=3,\n",
        "    output_fields=[\"image_url\"]\n",
        ")\n",
        "\n",
        "for hit in results[0]:\n",
        "    print(f\"Score: {hit.score}, Image URL: {hit.entity.get('image_url')}\")\n"
      ]
    }
  ],
  "metadata": {
    "accelerator": "GPU",
    "colab": {
      "gpuType": "T4",
      "provenance": []
    },
    "kernelspec": {
      "display_name": "Python 3",
      "name": "python3"
    },
    "language_info": {
      "name": "python"
    }
  },
  "nbformat": 4,
  "nbformat_minor": 0
}